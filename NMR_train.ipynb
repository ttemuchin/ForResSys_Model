{
 "cells": [
  {
   "cell_type": "code",
   "execution_count": 10,
   "metadata": {},
   "outputs": [],
   "source": [
    "import torch\n",
    "import torch.nn as nn\n",
    "from torch.utils.data import DataLoader\n",
    "\n",
    "import numpy as np\n",
    "import os\n",
    "\n",
    "from sklearn.metrics import r2_score\n",
    "\n",
    "from NMR_model import DynamicNMRRegressor, DynamicNMRDataset\n",
    "from NMR_preproc_methods import parse_directory, parse_data_file, splitSamples, split_data"
   ]
  },
  {
   "cell_type": "code",
   "execution_count": 11,
   "metadata": {},
   "outputs": [
    {
     "name": "stdout",
     "output_type": "stream",
     "text": [
      "Sample 0:\n",
      "Yi: [0.0, 0.0]\n",
      "X[0]: first 5 values - [0.99567765, 1.021505237, 0.9993298054, 1.011017203, 0.9911623001]\n",
      "X[1]: first 5 values - [0.01429168601, 0.2336208224, 0.3934727311, 0.5301313996, 0.6267670989]\n",
      "\n",
      "Sample 1:\n",
      "Yi: [1.0, 0.25]\n",
      "X[0]: first 5 values - [0.974399507, 0.9852434397, 0.9664190412, 0.9656493664, 1.004621387]\n",
      "X[1]: first 5 values - [-0.009456628002, 0.1018851399, 0.1474274993, 0.2108162493, 0.2597899437]\n",
      "\n",
      "100\n",
      "2\n",
      "400\n",
      "60\n",
      "2\n"
     ]
    }
   ],
   "source": [
    "# Парсим каждый файл и добавляем образцы в общий массив\n",
    "\n",
    "file_path = \"./kozlopan_ml100noise.txt\" # ФАЙЛ ОБУЧАЮЩЕЙ ВЫБОРКИ\n",
    "parsed_data = parse_data_file(file_path)\n",
    "\n",
    "# ПРОВЕРКА\n",
    "for i, sample in enumerate(parsed_data[:2]):\n",
    "    print(f\"Sample {i}:\")\n",
    "    print(f\"Yi: {sample.get('Yi', [])}\")\n",
    "    for key in sorted(sample.keys()):\n",
    "        if key.startswith(\"X[\"):\n",
    "            print(f\"{key}: first 5 values - {sample[key][:5]}\")\n",
    "    print()\n",
    "\n",
    "# print(parsed_data[0][\"X[0]\"])\n",
    "print(len(parsed_data)) # кол-во сигналов\n",
    "print(len(parsed_data[0][\"Yi\"])) # кол-во целевых\n",
    "print(len(parsed_data[0][\"X[0]\"])) # длина х0\n",
    "print(len(parsed_data[0][\"X[1]\"])) # длина х1\n",
    "print(len(parsed_data[0])-1) # кол-во х"
   ]
  },
  {
   "cell_type": "markdown",
   "metadata": {},
   "source": [
    "Для теста парсим набор файлов, сгенерированных с шумом или без"
   ]
  },
  {
   "cell_type": "code",
   "execution_count": 12,
   "metadata": {},
   "outputs": [
    {
     "name": "stdout",
     "output_type": "stream",
     "text": [
      "16\n"
     ]
    }
   ],
   "source": [
    "parsed_data_for_test = parse_directory(directory_path=\"./SygnalsWithoutNoise\") # Для тестов\n",
    "print(len(parsed_data_for_test)) # кол-во сигналов в тестовой выборке"
   ]
  },
  {
   "cell_type": "markdown",
   "metadata": {},
   "source": [
    "Но лучше иметь больше сигналов для теста, поэтому просто разделим большую обучающую базу на train/test"
   ]
  },
  {
   "cell_type": "code",
   "execution_count": 13,
   "metadata": {},
   "outputs": [
    {
     "name": "stdout",
     "output_type": "stream",
     "text": [
      "Всего образцов: 100\n",
      "Обучающая выборка: 80 образцов\n",
      "Тестовая выборка: 20 образцов\n"
     ]
    }
   ],
   "source": [
    "train_data, test_data = split_data(parsed_data, train_ratio=0.8, shuffle=True, random_seed=42)\n",
    "\n",
    "print(f\"Всего образцов: {len(parsed_data)}\")\n",
    "print(f\"Обучающая выборка: {len(train_data)} образцов\")\n",
    "print(f\"Тестовая выборка: {len(test_data)} образцов\")"
   ]
  },
  {
   "cell_type": "code",
   "execution_count": 14,
   "metadata": {},
   "outputs": [],
   "source": [
    "# x_train, y_train = splitSamples(parsed_data)\n",
    "# x_test, y_test = splitSamples(parsed_data_for_test)\n",
    "x_train, y_train = splitSamples(train_data)\n",
    "x_test, y_test = splitSamples(test_data)"
   ]
  },
  {
   "cell_type": "markdown",
   "metadata": {},
   "source": [
    "DATASET & MODEL"
   ]
  },
  {
   "cell_type": "code",
   "execution_count": 15,
   "metadata": {},
   "outputs": [],
   "source": [
    "batch_size = 32\n",
    "train_dataset = DynamicNMRDataset(*x_train, y=y_train)\n",
    "train_dataloader = DataLoader(train_dataset, batch_size=batch_size, shuffle=True)\n",
    "\n",
    "test_dataset = DynamicNMRDataset(*x_test, y=y_test)\n",
    "test_dataloader = DataLoader(test_dataset, batch_size=batch_size, shuffle=False)"
   ]
  },
  {
   "cell_type": "markdown",
   "metadata": {},
   "source": [
    "Гибкость: Модель адаптируется к любому количеству экспериментов (M) и целей (N).\n",
    "\n",
    "Масштабируемость: Можно добавлять новые типы сигналов без изменения кода.\n",
    "\n",
    "Автоматическая адаптация: Размеры слоев вычисляются динамически.\n"
   ]
  },
  {
   "cell_type": "code",
   "execution_count": 16,
   "metadata": {},
   "outputs": [
    {
     "name": "stdout",
     "output_type": "stream",
     "text": [
      "[400, 60] 2\n",
      "Используемое устройство: cpu\n"
     ]
    }
   ],
   "source": [
    "input_dims = [len(x[0]) for x in x_train]  # Длины каждого X[i]\n",
    "num_targets = len(y_train[0])  # Количество целевых переменных (Yi)\n",
    "\n",
    "assert input_dims == [len(x[0]) for x in x_test] and num_targets == len(y_test[0]), \"Несоответствие размеров train/test\"\n",
    "print(input_dims, num_targets)\n",
    "\n",
    "device = torch.device('cuda' if torch.cuda.is_available() else 'cpu')\n",
    "print(\"Используемое устройство:\", device)\n",
    "\n",
    "model = DynamicNMRRegressor(input_dims, num_targets)\n",
    "model.to(device)\n",
    "\n",
    "criterion = nn.MSELoss()\n",
    "optimizer = torch.optim.AdamW(model.parameters(), lr=3e-4)"
   ]
  },
  {
   "cell_type": "markdown",
   "metadata": {},
   "source": [
    "Цикл обучения"
   ]
  },
  {
   "cell_type": "code",
   "execution_count": 17,
   "metadata": {},
   "outputs": [
    {
     "name": "stdout",
     "output_type": "stream",
     "text": [
      "Epoch 1\n",
      "Train Loss: 0.1005 | Test Loss: 0.0950 | R² Score: -1.3148\n",
      "--------------------------------------------------\n",
      "Epoch 2\n",
      "Train Loss: 0.0789 | Test Loss: 0.0460 | R² Score: -0.6403\n",
      "--------------------------------------------------\n",
      "Epoch 3\n",
      "Train Loss: 0.0525 | Test Loss: 0.0312 | R² Score: -0.2187\n",
      "--------------------------------------------------\n",
      "Epoch 4\n",
      "Train Loss: 0.0574 | Test Loss: 0.0293 | R² Score: -0.3459\n",
      "--------------------------------------------------\n",
      "Epoch 5\n",
      "Train Loss: 0.0453 | Test Loss: 0.0261 | R² Score: 0.0498\n",
      "--------------------------------------------------\n",
      "Epoch 6\n",
      "Train Loss: 0.0381 | Test Loss: 0.0322 | R² Score: 0.0132\n",
      "--------------------------------------------------\n",
      "Epoch 7\n",
      "Train Loss: 0.0360 | Test Loss: 0.0208 | R² Score: 0.1964\n",
      "--------------------------------------------------\n",
      "Epoch 8\n",
      "Train Loss: 0.0237 | Test Loss: 0.0122 | R² Score: 0.2893\n",
      "--------------------------------------------------\n",
      "Epoch 9\n",
      "Train Loss: 0.0228 | Test Loss: 0.0102 | R² Score: 0.1115\n",
      "--------------------------------------------------\n",
      "Epoch 10\n",
      "Train Loss: 0.0144 | Test Loss: 0.0072 | R² Score: 0.4114\n",
      "--------------------------------------------------\n",
      "Epoch 11\n",
      "Train Loss: 0.0106 | Test Loss: 0.0046 | R² Score: 0.3157\n",
      "--------------------------------------------------\n",
      "Epoch 12\n",
      "Train Loss: 0.0097 | Test Loss: 0.0032 | R² Score: 0.5015\n",
      "--------------------------------------------------\n",
      "Epoch 13\n",
      "Train Loss: 0.0069 | Test Loss: 0.0034 | R² Score: 0.3436\n",
      "--------------------------------------------------\n",
      "Epoch 14\n",
      "Train Loss: 0.0071 | Test Loss: 0.0038 | R² Score: 0.3595\n",
      "--------------------------------------------------\n",
      "Epoch 15\n",
      "Train Loss: 0.0063 | Test Loss: 0.0042 | R² Score: 0.5138\n",
      "--------------------------------------------------\n",
      "Epoch 16\n",
      "Train Loss: 0.0069 | Test Loss: 0.0032 | R² Score: 0.5228\n",
      "--------------------------------------------------\n",
      "Epoch 17\n",
      "Train Loss: 0.0066 | Test Loss: 0.0037 | R² Score: 0.3171\n",
      "--------------------------------------------------\n",
      "Epoch 18\n",
      "Train Loss: 0.0064 | Test Loss: 0.0056 | R² Score: 0.0233\n",
      "--------------------------------------------------\n",
      "Epoch 19\n",
      "Train Loss: 0.0063 | Test Loss: 0.0030 | R² Score: 0.4683\n",
      "--------------------------------------------------\n",
      "Epoch 20\n",
      "Train Loss: 0.0071 | Test Loss: 0.0028 | R² Score: 0.5108\n",
      "--------------------------------------------------\n"
     ]
    }
   ],
   "source": [
    "for epoch in range(20):\n",
    "    model.train()\n",
    "    train_running_loss = 0.0\n",
    "    \n",
    "    for batch in train_dataloader:\n",
    "        *x_batch, y_batch = batch\n",
    "        x_batch = [x.to(device) for x in x_batch]\n",
    "        y_batch = y_batch.to(device)\n",
    "        \n",
    "        optimizer.zero_grad()\n",
    "        outputs = model(*x_batch)\n",
    "        loss = criterion(outputs, y_batch)\n",
    "        loss.backward()\n",
    "        optimizer.step()\n",
    "        \n",
    "        train_running_loss += loss.item()\n",
    "    \n",
    "    # =========\n",
    "\n",
    "    model.eval()\n",
    "    test_running_loss = 0.0\n",
    "    all_preds = []\n",
    "    all_targets = []\n",
    "    \n",
    "    with torch.no_grad():\n",
    "        for batch in test_dataloader:\n",
    "            *x_batch, y_batch = batch\n",
    "            x_batch = [x.to(device) for x in x_batch]\n",
    "            y_batch = y_batch.to(device)\n",
    "            \n",
    "            outputs = model(*x_batch)\n",
    "            loss = criterion(outputs, y_batch)\n",
    "            test_running_loss += loss.item()\n",
    "            \n",
    "            all_preds.append(outputs.cpu().numpy())\n",
    "            all_targets.append(y_batch.cpu().numpy())\n",
    "    \n",
    "    # предсказания и цели\n",
    "    all_preds = np.concatenate(all_preds, axis=0)\n",
    "    all_targets = np.concatenate(all_targets, axis=0)\n",
    "    \n",
    "    # метрики\n",
    "    train_loss = train_running_loss / len(train_dataloader)\n",
    "    test_loss = test_running_loss / len(test_dataloader)\n",
    "    r2 = r2_score(all_targets, all_preds)\n",
    "    \n",
    "    print(f\"Epoch {epoch + 1}\")\n",
    "    print(f\"Train Loss: {train_loss:.4f} | Test Loss: {test_loss:.4f} | R² Score: {r2:.4f}\")\n",
    "    print(\"-\" * 50)"
   ]
  },
  {
   "cell_type": "markdown",
   "metadata": {},
   "source": [
    "SAVE MODEL STATE TO FILE"
   ]
  },
  {
   "cell_type": "code",
   "execution_count": 18,
   "metadata": {},
   "outputs": [],
   "source": [
    "# torch.save(model, 'model.pth')\n",
    "torch.save(model.state_dict(), 'model_weights_100noise.pth')"
   ]
  },
  {
   "cell_type": "markdown",
   "metadata": {},
   "source": [
    "\n",
    "\n",
    "Потенциальные проблемы\n",
    "\n",
    "=====\n",
    "\n",
    "Производительность:\n",
    "\n",
    "Каждая ветвь обрабатывается независимо → может увеличиться время обучения.\n",
    "\n",
    "Решение: Использовать nn.ModuleDict для ветвей, если M фиксировано.\n",
    "\n",
    "Нормализация данных:\n",
    "\n",
    "Разные типы сигналов могут требовать разной предобработки.\n",
    "\n",
    "Решение: Добавить параметр scalers в модель.\n",
    "\n",
    "Интерпретируемость:\n",
    "\n",
    "Сложнее отслеживать вклад каждого типа сигнала.\n",
    "\n",
    "Решение: Визуализировать attention-веса или градиенты."
   ]
  }
 ],
 "metadata": {
  "kernelspec": {
   "display_name": "Python 3",
   "language": "python",
   "name": "python3"
  },
  "language_info": {
   "codemirror_mode": {
    "name": "ipython",
    "version": 3
   },
   "file_extension": ".py",
   "mimetype": "text/x-python",
   "name": "python",
   "nbconvert_exporter": "python",
   "pygments_lexer": "ipython3",
   "version": "3.12.4"
  }
 },
 "nbformat": 4,
 "nbformat_minor": 2
}
